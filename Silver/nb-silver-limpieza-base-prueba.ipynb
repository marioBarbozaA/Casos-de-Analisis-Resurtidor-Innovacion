{
 "cells": [
  {
   "cell_type": "code",
   "execution_count": 0,
   "metadata": {
    "application/vnd.databricks.v1+cell": {
     "cellMetadata": {
      "byteLimit": 2048000,
      "rowLimit": 10000
     },
     "inputWidgets": {},
     "nuid": "f9741dbd-b6af-4ce8-9f68-189c81eb2285",
     "showTitle": false,
     "tableResultSettingsMap": {},
     "title": ""
    }
   },
   "outputs": [],
   "source": [
    "# Acceder al df_bronze desde la vista si fue registrada, o leer desde la misma ruta\n",
    "df_bronze = (\n",
    "    spark.read.format(\"csv\")\n",
    "    .option(\"header\", \"true\")\n",
    "    .option(\"inferSchema\", \"true\")\n",
    "    .load(\"/FileStore/tables/base_prueba_bronze.csv\")\n",
    ")\n"
   ]
  },
  {
   "cell_type": "code",
   "execution_count": 0,
   "metadata": {
    "application/vnd.databricks.v1+cell": {
     "cellMetadata": {
      "byteLimit": 2048000,
      "rowLimit": 10000
     },
     "inputWidgets": {},
     "nuid": "31a8dc2c-dd06-4260-bbd0-590d853913e4",
     "showTitle": false,
     "tableResultSettingsMap": {},
     "title": ""
    }
   },
   "outputs": [],
   "source": [
    "from pyspark.sql.functions import col\n",
    "\n",
    "# Crear df_silver con limpieza de registros inválidos\n",
    "df_silver = df_bronze.filter(\n",
    "    (col(\"Combinaciones\").isNotNull()) &\n",
    "    (col(\"Combinaciones\") > 0) &\n",
    "    (col(\"In Stock\").isNotNull()) &\n",
    "    (col(\"Dispersión\").isNotNull()) &\n",
    "    (col(\"Tiendas con Inventario\").isNotNull()) &\n",
    "    (col(\"Tiendas sin Inventario\").isNotNull())\n",
    ")\n",
    "\n",
    "# Mostrar resultado\n",
    "display(df_silver)\n"
   ]
  },
  {
   "cell_type": "code",
   "execution_count": 0,
   "metadata": {
    "application/vnd.databricks.v1+cell": {
     "cellMetadata": {
      "byteLimit": 2048000,
      "rowLimit": 10000
     },
     "inputWidgets": {},
     "nuid": "f5140189-0723-41a7-9f55-0f50494b11c6",
     "showTitle": false,
     "tableResultSettingsMap": {},
     "title": ""
    }
   },
   "outputs": [],
   "source": [
    "df_silver.createOrReplaceTempView(\"silver_base_prueba\")\n"
   ]
  },
  {
   "cell_type": "markdown",
   "metadata": {
    "application/vnd.databricks.v1+cell": {
     "cellMetadata": {},
     "inputWidgets": {},
     "nuid": "41a3d219-4a52-4101-bdaa-60c39e785cb5",
     "showTitle": false,
     "tableResultSettingsMap": {},
     "title": ""
    }
   },
   "source": [
    "## Estadisticas Globales"
   ]
  },
  {
   "cell_type": "code",
   "execution_count": 0,
   "metadata": {
    "application/vnd.databricks.v1+cell": {
     "cellMetadata": {
      "byteLimit": 2048000,
      "rowLimit": 10000
     },
     "inputWidgets": {},
     "nuid": "e161c864-0c47-43f7-bd5b-39e163bfd742",
     "showTitle": false,
     "tableResultSettingsMap": {},
     "title": ""
    }
   },
   "outputs": [],
   "source": [
    "# Estadísticas básicas globales\n",
    "df_silver.describe([\"Combinaciones\", \"Oust\", \"In Stock\", \"Dispersión\"]).display()\n"
   ]
  },
  {
   "cell_type": "markdown",
   "metadata": {
    "application/vnd.databricks.v1+cell": {
     "cellMetadata": {},
     "inputWidgets": {},
     "nuid": "4c539b42-85e6-4c61-a389-8fadac5bd7de",
     "showTitle": false,
     "tableResultSettingsMap": {},
     "title": ""
    }
   },
   "source": [
    "## Promedio de In Stock y Dispersión por País"
   ]
  },
  {
   "cell_type": "code",
   "execution_count": 0,
   "metadata": {
    "application/vnd.databricks.v1+cell": {
     "cellMetadata": {
      "byteLimit": 2048000,
      "rowLimit": 10000
     },
     "inputWidgets": {},
     "nuid": "679af08c-c00a-45ec-bed8-b76cee9f6a26",
     "showTitle": false,
     "tableResultSettingsMap": {},
     "title": ""
    }
   },
   "outputs": [],
   "source": [
    "df_silver.groupBy(\"Pais\").agg(\n",
    "    {\"In Stock\": \"avg\", \"Dispersión\": \"avg\"}\n",
    ").withColumnRenamed(\"avg(In Stock)\", \"In_Stock_Promedio\") \\\n",
    " .withColumnRenamed(\"avg(Dispersión)\", \"Dispersión_Promedio\") \\\n",
    " .orderBy(\"In_Stock_Promedio\", ascending=False) \\\n",
    " .display()\n"
   ]
  },
  {
   "cell_type": "markdown",
   "metadata": {
    "application/vnd.databricks.v1+cell": {
     "cellMetadata": {},
     "inputWidgets": {},
     "nuid": "e19fc34c-62b7-441b-b23d-6a9695af0f2a",
     "showTitle": false,
     "tableResultSettingsMap": {},
     "title": ""
    }
   },
   "source": [
    "## Promedio por Formato"
   ]
  },
  {
   "cell_type": "code",
   "execution_count": 0,
   "metadata": {
    "application/vnd.databricks.v1+cell": {
     "cellMetadata": {
      "byteLimit": 2048000,
      "rowLimit": 10000
     },
     "inputWidgets": {},
     "nuid": "9b3b6222-729e-44e0-b7dd-83f7042ba38c",
     "showTitle": false,
     "tableResultSettingsMap": {},
     "title": ""
    }
   },
   "outputs": [],
   "source": [
    "df_silver.groupBy(\"Formato\").agg(\n",
    "    {\"In Stock\": \"avg\", \"Dispersión\": \"avg\"}\n",
    ").withColumnRenamed(\"avg(In Stock)\", \"In_Stock_Promedio\") \\\n",
    " .withColumnRenamed(\"avg(Dispersión)\", \"Dispersión_Promedio\") \\\n",
    " .orderBy(\"In_Stock_Promedio\", ascending=False) \\\n",
    " .display()\n"
   ]
  },
  {
   "cell_type": "markdown",
   "metadata": {
    "application/vnd.databricks.v1+cell": {
     "cellMetadata": {},
     "inputWidgets": {},
     "nuid": "178ec4f5-b4b1-49d7-84a0-79bd1de8e168",
     "showTitle": false,
     "tableResultSettingsMap": {},
     "title": ""
    }
   },
   "source": [
    "## Promedio por Categoría (top 10 con peor In Stock)![](path)"
   ]
  },
  {
   "cell_type": "code",
   "execution_count": 0,
   "metadata": {
    "application/vnd.databricks.v1+cell": {
     "cellMetadata": {
      "byteLimit": 2048000,
      "rowLimit": 10000
     },
     "inputWidgets": {},
     "nuid": "dd26c9d3-1fdc-441c-ba20-60dce6a63d2a",
     "showTitle": false,
     "tableResultSettingsMap": {},
     "title": ""
    }
   },
   "outputs": [],
   "source": [
    "df_silver.groupBy(\"Categoría\").agg(\n",
    "    {\"In Stock\": \"avg\"}\n",
    ").withColumnRenamed(\"avg(In Stock)\", \"In_Stock_Promedio\") \\\n",
    " .orderBy(\"In_Stock_Promedio\") \\\n",
    " .limit(10) \\\n",
    " .display()\n"
   ]
  },
  {
   "cell_type": "markdown",
   "metadata": {
    "application/vnd.databricks.v1+cell": {
     "cellMetadata": {},
     "inputWidgets": {},
     "nuid": "6ae6568a-0551-4ccf-862b-935a5bf8ba4f",
     "showTitle": false,
     "tableResultSettingsMap": {},
     "title": ""
    }
   },
   "source": [
    "## Visualización: In Stock Promedio por País (gráfico de barras)"
   ]
  },
  {
   "cell_type": "code",
   "execution_count": 0,
   "metadata": {
    "application/vnd.databricks.v1+cell": {
     "cellMetadata": {
      "byteLimit": 2048000,
      "rowLimit": 10000
     },
     "inputWidgets": {},
     "nuid": "24f62398-260d-4708-b3bb-008e6e7f860b",
     "showTitle": false,
     "tableResultSettingsMap": {},
     "title": ""
    }
   },
   "outputs": [],
   "source": [
    "import matplotlib.pyplot as plt\n",
    "import pandas as pd\n",
    "\n",
    "# Convertir a Pandas para graficar\n",
    "df_pais = df_silver.groupBy(\"Pais\").agg({\"In Stock\": \"avg\"}).toPandas()\n",
    "df_pais.columns = [\"Pais\", \"In_Stock_Promedio\"]\n",
    "\n",
    "# Gráfico de barras\n",
    "df_pais.sort_values(\"In_Stock_Promedio\", ascending=False).plot(\n",
    "    x=\"Pais\", y=\"In_Stock_Promedio\", kind=\"bar\", legend=False, title=\"In Stock Promedio por País\"\n",
    ")\n",
    "plt.ylabel(\"In Stock %\")\n",
    "plt.show()\n"
   ]
  },
  {
   "cell_type": "markdown",
   "metadata": {
    "application/vnd.databricks.v1+cell": {
     "cellMetadata": {},
     "inputWidgets": {},
     "nuid": "9c43ee6e-5fbb-475f-98b7-5b046b96f321",
     "showTitle": false,
     "tableResultSettingsMap": {},
     "title": ""
    }
   },
   "source": [
    "##  Visualización: Dispersión promedio por Formato"
   ]
  },
  {
   "cell_type": "code",
   "execution_count": 0,
   "metadata": {
    "application/vnd.databricks.v1+cell": {
     "cellMetadata": {
      "byteLimit": 2048000,
      "rowLimit": 10000
     },
     "inputWidgets": {},
     "nuid": "85476326-553d-4514-bf86-cc779c2ced73",
     "showTitle": false,
     "tableResultSettingsMap": {},
     "title": ""
    }
   },
   "outputs": [],
   "source": [
    "df_formato = df_silver.groupBy(\"Formato\").agg({\"Dispersión\": \"avg\"}).toPandas()\n",
    "df_formato.columns = [\"Formato\", \"Dispersión_Promedio\"]\n",
    "\n",
    "df_formato.sort_values(\"Dispersión_Promedio\", ascending=False).plot(\n",
    "    x=\"Formato\", y=\"Dispersión_Promedio\", kind=\"bar\", color=\"orange\", title=\"Dispersión Promedio por Formato\"\n",
    ")\n",
    "plt.ylabel(\"Dispersión\")\n",
    "plt.show()\n"
   ]
  },
  {
   "cell_type": "markdown",
   "metadata": {
    "application/vnd.databricks.v1+cell": {
     "cellMetadata": {},
     "inputWidgets": {},
     "nuid": "8ecacb9e-dfde-44d5-88d7-6d0fb63098f3",
     "showTitle": false,
     "tableResultSettingsMap": {},
     "title": ""
    }
   },
   "source": [
    "## Mini KPI: Categorías con peor In Stock (gráfico)"
   ]
  },
  {
   "cell_type": "code",
   "execution_count": 0,
   "metadata": {
    "application/vnd.databricks.v1+cell": {
     "cellMetadata": {
      "byteLimit": 2048000,
      "rowLimit": 10000
     },
     "inputWidgets": {},
     "nuid": "51f013cc-7523-41ed-a53e-ca5b0ddc5131",
     "showTitle": false,
     "tableResultSettingsMap": {},
     "title": ""
    }
   },
   "outputs": [],
   "source": [
    "df_cat = df_silver.groupBy(\"Categoría\").agg({\"In Stock\": \"avg\"}).toPandas()\n",
    "df_cat.columns = [\"Categoría\", \"In_Stock_Promedio\"]\n",
    "\n",
    "# Top 10 con peor In Stock\n",
    "df_cat.sort_values(\"In_Stock_Promedio\").head(10).plot(\n",
    "    x=\"Categoría\", y=\"In_Stock_Promedio\", kind=\"barh\", color=\"red\", title=\"Top 10 Categorías con Peor In Stock\"\n",
    ")\n",
    "plt.xlabel(\"In Stock %\")\n",
    "plt.show()\n"
   ]
  },
  {
   "cell_type": "markdown",
   "metadata": {
    "application/vnd.databricks.v1+cell": {
     "cellMetadata": {},
     "inputWidgets": {},
     "nuid": "3ddfbfae-71c4-49b6-a740-67dac7bebfa9",
     "showTitle": false,
     "tableResultSettingsMap": {},
     "title": ""
    }
   },
   "source": [
    "# Caso 2 – Análisis de In Stock"
   ]
  },
  {
   "cell_type": "markdown",
   "metadata": {
    "application/vnd.databricks.v1+cell": {
     "cellMetadata": {},
     "inputWidgets": {},
     "nuid": "692ab8cf-6406-4aa7-ac9b-e88f49c052b7",
     "showTitle": false,
     "tableResultSettingsMap": {},
     "title": ""
    }
   },
   "source": [
    "\n",
    "\n",
    "## ¿Qué puede interpretar de los datos?\n",
    "\n",
    "El análisis de In Stock a nivel global y desagregado por país, formato y categoría revela que:\n",
    "\n",
    "- El **In Stock promedio general es de 96.36%**, por debajo de la meta corporativa establecida en **97.5%**.\n",
    "- **Ningún país o formato alcanza simultáneamente las metas de In Stock y Dispersión**, lo que evidencia un **desempeño desigual en la cadena de abastecimiento**.\n",
    "- Las **categorías con peor desempeño se concentran en cosméticos (D59)** y productos accesorios, lo que sugiere un problema estructural en estas líneas.\n",
    "\n",
    "---\n",
    "\n",
    "##  Conclusiones clave\n",
    "\n",
    "### A nivel país:\n",
    "- **Guatemala (GT)** tiene el mejor In Stock (97.04%), pero falla en dispersión.\n",
    "- **Costa Rica (CR)** presenta el peor In Stock (95.66%) y dispersión más alta.\n",
    "- **Nicaragua (NI)** destaca en dispersión (7.29%) pero no alcanza la meta de cobertura.\n",
    "\n",
    "### A nivel formato:\n",
    "- **DISCOUNT** es el único formato que se acerca a ambas metas (96.77% In Stock y 5.37% Dispersión).\n",
    "- **HYPERMARKET** tiene el peor desempeño general.\n",
    "\n",
    "### A nivel categoría:\n",
    "- Ninguna de las **10 categorías con peor In Stock** supera el 95%.\n",
    "- 4 de las 10 peores categorías pertenecen a **COSMETICS D59**, evidenciando una línea crítica.\n",
    "\n",
    "---\n",
    "\n",
    "## Recomendaciones\n",
    "\n",
    "### 1. Intervención estratégica en la categoría **COSMETICS D59**\n",
    "- Justificación: Aparece repetidamente en el bottom 10 de In Stock.\n",
    "- Acción: Revisión del catálogo activo, niveles de seguridad, y forecast por canal.\n",
    "\n",
    "---\n",
    "\n",
    "### 2. Replicar el modelo de operación de **formato DISCOUNT**\n",
    "- Justificación: Es el único formato que cumple o se acerca a los KPIs.\n",
    "- Acción: Benchmark operativo, prácticas logísticas, política de surtido y rotación.\n",
    "\n",
    "---\n",
    "\n",
    "### 3. Intervención regional en **Costa Rica y Honduras**\n",
    "- Justificación: Ambos países presentan los peores indicadores combinados.\n",
    "- Acción: Diagnóstico logístico, revisión de cobertura por tienda, revisión de última milla o almacenes intermedios.\n",
    "\n",
    "---\n",
    "\n",
    "### 4. Establecer un sistema de alertas para categorías < 95% In Stock\n",
    "- Justificación: La detección anticipada permitiría tomar decisiones más rápidas y evitar quiebres.\n",
    "- Acción: Implementar semáforos operativos conectados a dashboards semanales."
   ]
  },
  {
   "cell_type": "markdown",
   "metadata": {
    "application/vnd.databricks.v1+cell": {
     "cellMetadata": {},
     "inputWidgets": {},
     "nuid": "fdb0731e-2062-4238-bdb3-6627d1ddf711",
     "showTitle": false,
     "tableResultSettingsMap": {},
     "title": ""
    }
   },
   "source": [
    "#  Caso 3 – Análisis de Dispersión"
   ]
  },
  {
   "cell_type": "markdown",
   "metadata": {
    "application/vnd.databricks.v1+cell": {
     "cellMetadata": {},
     "inputWidgets": {},
     "nuid": "515a133b-7282-40f0-acb8-54825c67325f",
     "showTitle": false,
     "tableResultSettingsMap": {},
     "title": ""
    }
   },
   "source": [
    "## ¿Qué puede interpretar de los datos?\n",
    "\n",
    "- La **dispersión promedio global es de 12.37%**, lo cual está por **encima de la meta corporativa de 9.0%**.\n",
    "- La **alta desviación estándar (20.24%)** sugiere que **la dispersión varía mucho entre regiones y formatos**, lo que refleja **falta de consistencia en la cobertura por tienda**.\n",
    "- La dispersión elevada implica que **algunas tiendas están completamente desabastecidas**, mientras otras sí tienen inventario del mismo producto, lo que genera **experiencias desiguales para el cliente y pérdida de ventas**.\n",
    "\n",
    "---\n",
    "\n",
    "## Conclusiones clave\n",
    "\n",
    "### A nivel país:\n",
    "- **Nicaragua (NI)** es el **único país que cumple la meta de dispersión** (7.29%), lo cual indica una cobertura más homogénea.\n",
    "- **Costa Rica (CR)** presenta la **mayor dispersión** (17.67%), señal de grandes diferencias entre tiendas abastecidas y sin inventario.\n",
    "- **Honduras (HN)** y **Guatemala (GT)** también superan el umbral, aunque con menor severidad.\n",
    "\n",
    "### A nivel formato:\n",
    "- **DISCOUNT** destaca con una dispersión del 5.37%  (cumple).\n",
    "- **HYPERMARKET** y **BODEGA** presentan los niveles más altos (16.28% y 14.55% respectivamente), mostrando alta concentración de quiebres en tiendas específicas.\n",
    "\n",
    "### A nivel categoría:\n",
    "- Aunque no se visualizó aún en detalle para dispersión por categoría, se presume que las **categorías que aparecen con bajo In Stock** también presentan **altos niveles de dispersión**, especialmente en cosméticos y accesorios.\n",
    "\n",
    "---\n",
    "\n",
    "## Recomendaciones\n",
    "\n",
    "### 1. **Replicar buenas prácticas logísticas de Nicaragua y formato DISCOUNT**\n",
    "- Justificación: Son los únicos que cumplen con la meta de dispersión.\n",
    "- Acción: Documentar procesos logísticos, frecuencia de abastecimiento y métodos de reposición; escalarlo al resto de países y formatos.\n",
    "\n",
    "---\n",
    "\n",
    "### 2. **Rediseñar distribución en tiendas HYPERMARKET y BODEGA**\n",
    "- Justificación: Ambos presentan las peores cifras de dispersión.\n",
    "- Acción: Mejorar la segmentación de inventario, aumentar visibilidad de cobertura por tienda y revisar rutas logísticas.\n",
    "\n",
    "---\n",
    "\n",
    "### 3. **Implementar alertas tempranas para dispersión crítica (>15%)**\n",
    "- Justificación: Dispersión alta implica quiebres silenciosos en puntos de venta.\n",
    "- Acción: Automatizar alertas semanales en dashboard operativo para categorías/formato/país con mayor dispersión.\n",
    "\n",
    "---\n",
    "\n",
    "### 4. **Validar cobertura en tiendas de Costa Rica**\n",
    "- Justificación: CR presenta la dispersión más alta entre los 5 países.\n",
    "- Acción: Auditar cobertura real vs teórica por tienda, identificar causas (demanda, rotura de stock, errores en picking)."
   ]
  },
  {
   "cell_type": "markdown",
   "metadata": {
    "application/vnd.databricks.v1+cell": {
     "cellMetadata": {},
     "inputWidgets": {},
     "nuid": "73273611-e84e-4596-bfaf-158f5e431dc0",
     "showTitle": false,
     "tableResultSettingsMap": {},
     "title": ""
    }
   },
   "source": [
    "# Caso 4 - SQL ?"
   ]
  },
  {
   "cell_type": "markdown",
   "metadata": {
    "application/vnd.databricks.v1+cell": {
     "cellMetadata": {},
     "inputWidgets": {},
     "nuid": "4be28973-de3d-4e4e-9f1b-69373ea0768c",
     "showTitle": false,
     "tableResultSettingsMap": {},
     "title": ""
    }
   },
   "source": [
    "# Caso 5 - Modelo de almacenamiento de datos"
   ]
  },
  {
   "cell_type": "markdown",
   "metadata": {
    "application/vnd.databricks.v1+cell": {
     "cellMetadata": {},
     "inputWidgets": {},
     "nuid": "4b8f3299-75d9-4b1c-b946-6c0091a8e6a3",
     "showTitle": false,
     "tableResultSettingsMap": {},
     "title": ""
    }
   },
   "source": [
    "\n",
    "## Objetivo del modelo\n",
    "\n",
    "Diseñar un modelo de almacenamiento robusto que permita:\n",
    "\n",
    "- Construir un **historial confiable** de datos de inventario.\n",
    "- Facilitar el **análisis de tendencias y evolución** en el tiempo.\n",
    "- **Evitar duplicidades** en los registros.\n",
    "- Permitir la **auditoría** del origen y carga de los datos.\n",
    "\n",
    "---\n",
    "\n",
    "## Aspectos considerados en el diseño\n",
    "\n",
    "1. **Identificación única por fila**  \n",
    "   - Se incluye un campo `id_inventario` para diferenciar cada registro.\n",
    "   - Se combina con claves naturales como país, formato, categoría y mes.\n",
    "\n",
    "2. **Fechas clave**  \n",
    "   - `fecha_corte`: representa el momento al que pertenece el dato.\n",
    "   - `fecha_carga`: marca cuándo fue ingresado al sistema.\n",
    "\n",
    "3. **Trazabilidad**  \n",
    "   - Campo `source` indica de dónde proviene el dato (por ejemplo, “Excel semanal”).\n",
    "   - Se puede incluir un identificador de usuario o proceso si se automatiza.\n",
    "\n",
    "4. **Control de duplicados**  \n",
    "   - Uso de una **llave compuesta** lógica (`pais`, `formato`, `categoría`, `mes`, `fecha_corte`) para prevenir inserciones repetidas.\n",
    "   - Validación previa a la ingesta para evitar sobrescribir historial existente.\n",
    "\n",
    "5. **Extensibilidad**  \n",
    "   - Puede crecer fácilmente en filas con nuevas semanas, meses o registros.\n",
    "   - Permite construir dashboards, alertas o reportes sin rediseñar el esquema.\n",
    "\n",
    "---\n",
    "\n",
    "##  Estructura propuesta – Tabla `fact_inventario_historial`\n",
    "\n",
    "| Campo                   | Tipo         | Descripción                                               |\n",
    "|------------------------|--------------|-----------------------------------------------------------|\n",
    "| `id_inventario`        | UUID / String| ID tecnico del registro                              |\n",
    "| `pais`                 | String       | Código del país (ej.: CR, GT, HN)                         |\n",
    "| `formato`              | String       | Tipo de tienda (DISCOUNT, BODEGA, etc.)                   |\n",
    "| `categoría`            | String       | Categoría de producto                                     |\n",
    "| `mes`                  | Integer      | Mes del dato (ej.: 1 a 12)                                |\n",
    "| `combinaciones`        | Integer      | Total de combinaciones registradas                        |\n",
    "| `oust`                 | Integer      | Total de quiebres (Oust)                                  |\n",
    "| `tiendas_con_inventario` | Integer    | Tiendas que tenían el producto                            |\n",
    "| `tiendas_sin_inventario` | Integer    | Tiendas que no tenían el producto                         |\n",
    "| `in_stock`             | Decimal(5,4) | Porcentaje de In Stock                                    |\n",
    "| `dispersión`           | Decimal(5,4) | Porcentaje de Dispersión                                  |\n",
    "| `fecha_corte`          | Date         | Fecha a la que corresponde el dato                        |\n",
    "| `fecha_carga`          | Timestamp    | Fecha en que se cargó el registro al sistema              |\n",
    "| `source`               | String       | Fuente del dato (ej.: `upload_excel`, `pipeline_autom`)   |\n",
    "\n",
    "---\n",
    "\n",
    "## Justificación del modelo\n",
    "\n",
    "- **Historial**: cada fila representa un snapshot en un momento del tiempo (`fecha_corte`), permitiendo análisis temporales.\n",
    "- **Auditoría**: al registrar fuente y fecha de carga, se puede rastrear cuándo y cómo llegó cada dato.\n",
    "- **Prevención de duplicados**: combinación de claves naturales + validación de existencia previa.\n",
    "- **Escalabilidad**: puede adaptarse a más fuentes, más granularidad o más niveles de análisis.\n",
    "\n",
    "---\n",
    "\n",
    "## Usos y beneficios\n",
    "\n",
    "- Permite construir dashboards de evolución del In Stock y Dispersión.\n",
    "- Facilita la detección de tendencias por país, formato o categoría.\n",
    "- Sirve como base para modelos de forecasting y alertas.\n",
    "- Apoya la toma de decisiones logísticas basadas en históricos reales."
   ]
  },
  {
   "cell_type": "markdown",
   "metadata": {
    "application/vnd.databricks.v1+cell": {
     "cellMetadata": {},
     "inputWidgets": {},
     "nuid": "57bef4e7-8860-4fb9-8476-db2ae8d0b70a",
     "showTitle": false,
     "tableResultSettingsMap": {},
     "title": ""
    }
   },
   "source": [
    "# Caso 6 – Modelo de almacenamiento bajo carga semanal desde Excel"
   ]
  },
  {
   "cell_type": "markdown",
   "metadata": {
    "application/vnd.databricks.v1+cell": {
     "cellMetadata": {},
     "inputWidgets": {},
     "nuid": "97341328-d71d-49b4-a918-643c402df0b6",
     "showTitle": false,
     "tableResultSettingsMap": {},
     "title": ""
    }
   },
   "source": [
    "\n",
    "\n",
    "## Escenario Completo\n",
    "\n",
    "| Elemento | Definición |\n",
    "|:---|:---|\n",
    "| **Origen** | Archivos Excel subidos semanalmente por usuarios |\n",
    "| **Ingesta** | Automatizada usando pipelines (ej. Azure Data Factory, Databricks Autoloader) |\n",
    "| **Procesamiento** | Validaciones, transformación y carga de históricos |\n",
    "| **Almacenamiento** | BigQuery en Google Cloud Platform |\n",
    "| **Consumo** | Equipo de BI usando herramientas como Power BI, Looker o Data Studio |\n",
    "\n",
    "---\n",
    "\n",
    "# Flujo propuesto\n",
    "\n",
    "1. **Usuario carga Excel** a un **bucket en cloud storage** (ej.: GCS bucket o Azure Blob Storage).\n",
    "\n",
    "2. **Trigger automático** al detectar un archivo nuevo:\n",
    "   - Puede ser un **Event Trigger** (ej.: Cloud Functions, Azure Functions).\n",
    "   - Inicia pipeline de procesamiento.\n",
    "\n",
    "3. **Pipeline de procesamiento** (ej.: Databricks o Dataflow):\n",
    "   - Leer el archivo.\n",
    "   - Validar formato, duplicados, tipos de datos.\n",
    "   - Transformar y calcular si es necesario.\n",
    "   - Enriquecer con metadata (`source`, `fecha_carga`, `usuario`).\n",
    "\n",
    "4. **Carga en BigQuery** en la tabla `fact_inventario_historial`:\n",
    "   - Modo **append** para mantener el historial.\n",
    "   - Validaciones de unicidad por `pais`, `formato`, `categoría`, `fecha_corte`.\n",
    "\n",
    "5. **Publicación para BI**:\n",
    "   - BigQuery expone datasets certificados.\n",
    "   - Equipo de BI conecta directamente usando Power BI, Looker o Google Data Studio para dashboards dinámicos.\n",
    "\n",
    "---\n",
    "\n",
    "#  Tecnologías\n",
    "\n",
    "| Etapa | Tecnología recomendada |\n",
    "|:---|:---|\n",
    "| Carga de archivos | Google Cloud Storage (GCS) o Azure Blob Storage |\n",
    "| Ingesta automatizada | Cloud Functions + Databricks Autoloader o Azure Data Factory |\n",
    "| Procesamiento | Databricks (PySpark) o Google Dataflow |\n",
    "| Almacenamiento final | BigQuery |\n",
    "| Consumo BI | Power BI, Looker, Google Data Studio |\n",
    "\n",
    "---\n",
    "\n",
    "# **Flujo** :\n",
    "\n",
    "```\n",
    "Usuario\n",
    "  ↓\n",
    "Carga Excel → Bucket en Storage (GCS / Blob Storage)\n",
    "  ↓\n",
    "Trigger automático (Cloud Function / Azure Function)\n",
    "  ↓\n",
    "Pipeline de procesamiento (Databricks / Dataflow)\n",
    "  ↓\n",
    "Tabla BigQuery: fact_inventario_historial\n",
    "  ↓\n",
    "Dashboards BI (Power BI / Looker / Data Studio)\n",
    "```\n",
    "\n",
    "---\n",
    "\n",
    "# Resumen de Beneficios de esta Arquitectura\n",
    "\n",
    "| Aspecto | Cómo se cubre |\n",
    "|:---|:---|\n",
    "| Historial de datos | Cada carga es nueva y no borra el historial |\n",
    "| Prevención de duplicados | Validaciones en pipeline antes de insertar |\n",
    "| Auditoría | `fecha_corte`, `fecha_carga`, `source`, `usuario` disponibles |\n",
    "| Disponibilidad para BI | BigQuery optimizado para consumo masivo |\n",
    "| Automatización | Cero intervención manual una vez cargado el Excel |\n",
    "\n",
    "---\n",
    "\n",
    "# Conclusión\n",
    "\n",
    "Con este enfoque, se lograra un **flujo real de data engineering** moderno, escalable, y totalmente preparado para crecimiento futuro y dashboards de BI."
   ]
  }
 ],
 "metadata": {
  "application/vnd.databricks.v1+notebook": {
   "computePreferences": null,
   "dashboards": [],
   "environmentMetadata": {
    "base_environment": "",
    "environment_version": "2"
   },
   "inputWidgetPreferences": null,
   "language": "python",
   "notebookMetadata": {
    "pythonIndentUnit": 4
   },
   "notebookName": "nb-silver-limpieza-base-prueba",
   "widgets": {}
  },
  "language_info": {
   "name": "python"
  }
 },
 "nbformat": 4,
 "nbformat_minor": 0
}
